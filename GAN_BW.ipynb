{
 "cells": [
  {
   "cell_type": "code",
   "execution_count": null,
   "metadata": {},
   "outputs": [],
   "source": [
    "import torch\n",
    "import torch.nn as nn\n",
    "import torch.optim as optim\n",
    "from torch.utils.data import DataLoader, Dataset\n",
    "from torchvision.transforms import ToTensor\n",
    "from PIL import Image\n",
    "import os\n",
    "import re"
   ]
  },
  {
   "cell_type": "code",
   "execution_count": 2,
   "metadata": {},
   "outputs": [],
   "source": [
    "# Define the generator model\n",
    "class Generator(nn.Module):\n",
    "    def __init__(self):\n",
    "        super(Generator, self).__init__()\n",
    "        self.conv1 = nn.Conv2d(1, 64, kernel_size=3, padding=1)\n",
    "        self.relu1 = nn.ReLU(inplace=True)\n",
    "        self.conv2 = nn.Conv2d(64, 64, kernel_size=3, padding=1)\n",
    "        self.relu2 = nn.ReLU(inplace=True)\n",
    "        self.conv3 = nn.Conv2d(64, 1, kernel_size=3, padding=1)\n",
    "\n",
    "    def forward(self, x):\n",
    "        x = self.conv1(x)\n",
    "        x = self.relu1(x)\n",
    "        x = self.conv2(x)\n",
    "        x = self.relu2(x)\n",
    "        x = self.conv3(x)\n",
    "        return x\n",
    "\n",
    "\n",
    "# Define the discriminator model\n",
    "class Discriminator(nn.Module):\n",
    "    def __init__(self):\n",
    "        super(Discriminator, self).__init__()\n",
    "        self.conv1 = nn.Conv2d(1, 64, kernel_size=3, padding=1)\n",
    "        self.leakyrelu1 = nn.LeakyReLU(0.2, inplace=True)\n",
    "        self.conv2 = nn.Conv2d(64, 64, kernel_size=3, padding=1)\n",
    "        self.leakyrelu2 = nn.LeakyReLU(0.2, inplace=True)\n",
    "        self.conv3 = nn.Conv2d(64, 1, kernel_size=3, padding=1)\n",
    "\n",
    "    def forward(self, x):\n",
    "        x = self.conv1(x)\n",
    "        x = self.leakyrelu1(x)\n",
    "        x = self.conv2(x)\n",
    "        x = self.leakyrelu2(x)\n",
    "        x = self.conv3(x)\n",
    "        return x\n",
    "\n",
    "\n",
    "# Define dataset class\n",
    "class ImageDataset(Dataset):\n",
    "    def __init__(self, compressed_dir, high_quality_dir, transform=None):\n",
    "        self.compressed_dir = compressed_dir\n",
    "        self.high_quality_dir = high_quality_dir\n",
    "        self.transform = transform\n",
    "        self.compressed_files = os.listdir(self.compressed_dir)\n",
    "\n",
    "    def __len__(self):\n",
    "        return len(self.compressed_files)\n",
    "\n",
    "    def __getitem__(self, index):\n",
    "        compressed_file = self.compressed_files[index]\n",
    "        compressed_path = os.path.join(self.compressed_dir, compressed_file)\n",
    "        split_file = re.split(r'\\.|_', compressed_file)\n",
    "        high_quality_file = split_file[0] + '.png'\n",
    "        high_quality_path = os.path.join(self.high_quality_dir, high_quality_file)\n",
    "\n",
    "        compressed_image = Image.open(compressed_path).convert('L')\n",
    "        high_quality_image = Image.open(high_quality_path).convert('L')\n",
    "\n",
    "        if self.transform:\n",
    "            compressed_image = self.transform(compressed_image)\n",
    "            high_quality_image = self.transform(high_quality_image)\n",
    "\n",
    "        return compressed_image, high_quality_image\n",
    "\n",
    "\n",
    "# Define the training loop for GAN\n",
    "def train_gan(generator, discriminator, dataloader, criterion, optimizer_g, optimizer_d, device):\n",
    "    generator.train()\n",
    "    discriminator.train()\n",
    "    running_gen_loss = 0.0\n",
    "    running_dis_loss = 0.0\n",
    "    for compressed_images, high_quality_images in dataloader:\n",
    "        compressed_images = compressed_images.to(device)\n",
    "        high_quality_images = high_quality_images.to(device)\n",
    "\n",
    "        # Update the discriminator\n",
    "        optimizer_d.zero_grad()\n",
    "        fake_images = generator(compressed_images)\n",
    "        real_outputs = discriminator(high_quality_images)\n",
    "        fake_outputs = discriminator(fake_images.detach())\n",
    "\n",
    "                             \n",
    "        dis_loss = criterion(real_outputs, torch.ones_like(real_outputs)) + \\\n",
    "                   criterion(fake_outputs, torch.zeros_like(fake_outputs))\n",
    "        dis_loss.backward()\n",
    "        optimizer_d.step()\n",
    "        running_dis_loss += dis_loss.item()\n",
    "\n",
    "        # Update the generator\n",
    "        optimizer_g.zero_grad()\n",
    "        fake_outputs = discriminator(fake_images)\n",
    "        gen_loss = criterion(fake_outputs, torch.ones_like(fake_outputs))\n",
    "        gen_loss.backward()\n",
    "        optimizer_g.step()\n",
    "        running_gen_loss += gen_loss.item()\n",
    "\n",
    "    return running_gen_loss, running_dis_loss\n",
    "\n",
    "\n",
    "# Set up hyperparameters and training configurations\n",
    "compressed_dir = 'compressed_images'\n",
    "high_quality_dir = 'images'\n",
    "batch_size = 8\n",
    "learning_rate_g = 0.001 # was 0.0002\n",
    "learning_rate_d = 0.001 # was 0.0002\n",
    "num_epochs = 50"
   ]
  },
  {
   "cell_type": "code",
   "execution_count": null,
   "metadata": {},
   "outputs": [],
   "source": [
    "Generator.summary()"
   ]
  },
  {
   "cell_type": "code",
   "execution_count": 3,
   "metadata": {},
   "outputs": [],
   "source": [
    "# Create dataset and dataloader\n",
    "transform = ToTensor()\n",
    "dataset = ImageDataset(compressed_dir, high_quality_dir, transform)\n",
    "dataloader = DataLoader(dataset, batch_size=batch_size, shuffle=True, num_workers=0)\n",
    "\n",
    "# Create generator and discriminator instances\n",
    "generator = Generator()\n",
    "discriminator = Discriminator()"
   ]
  },
  {
   "cell_type": "code",
   "execution_count": 4,
   "metadata": {},
   "outputs": [
    {
     "data": {
      "text/plain": [
       "Discriminator(\n",
       "  (conv1): Conv2d(1, 64, kernel_size=(3, 3), stride=(1, 1), padding=(1, 1))\n",
       "  (leakyrelu1): LeakyReLU(negative_slope=0.2, inplace=True)\n",
       "  (conv2): Conv2d(64, 64, kernel_size=(3, 3), stride=(1, 1), padding=(1, 1))\n",
       "  (leakyrelu2): LeakyReLU(negative_slope=0.2, inplace=True)\n",
       "  (conv3): Conv2d(64, 1, kernel_size=(3, 3), stride=(1, 1), padding=(1, 1))\n",
       ")"
      ]
     },
     "execution_count": 4,
     "metadata": {},
     "output_type": "execute_result"
    }
   ],
   "source": [
    "# Define loss function and optimizers\n",
    "criterion = nn.BCEWithLogitsLoss()\n",
    "optimizer_g = optim.Adam(generator.parameters(), lr=learning_rate_g, betas=(0.5, 0.999))\n",
    "optimizer_d = optim.Adam(discriminator.parameters(), lr=learning_rate_d, betas=(0.5, 0.999))\n",
    "\n",
    "# Move models to GPU if available\n",
    "device = torch.device('cuda' if torch.cuda.is_available() else 'cpu')\n",
    "generator.to(device)\n",
    "discriminator.to(device)"
   ]
  },
  {
   "cell_type": "code",
   "execution_count": null,
   "metadata": {},
   "outputs": [],
   "source": [
    "# Training loop\n",
    "for epoch in range(num_epochs):\n",
    "    gen_loss, dis_loss = train_gan(generator, discriminator, dataloader, criterion, optimizer_g, optimizer_d, device)\n",
    "    print(f'Epoch [{epoch+1}/{num_epochs}], Generator Loss: {gen_loss:.4f}, Discriminator Loss: {dis_loss:.4f}')\n",
    "    # Save generator and discriminator models\n",
    "    torch.save(generator.state_dict(), 'generbw3k.pth')\n",
    "    torch.save(discriminator.state_dict(), 'discribw3k.pth')"
   ]
  },
  {
   "cell_type": "code",
   "execution_count": null,
   "metadata": {},
   "outputs": [],
   "source": [
    "# Save trained models\n",
    "torch.save(generator.state_dict(), 'generatbw3k.pth')\n",
    "torch.save(discriminator.state_dict(), 'discriminatbw3k.pth')"
   ]
  },
  {
   "cell_type": "code",
   "execution_count": null,
   "metadata": {},
   "outputs": [],
   "source": [
    "from torchvision.transforms import ToPILImage"
   ]
  },
  {
   "cell_type": "code",
   "execution_count": null,
   "metadata": {},
   "outputs": [],
   "source": [
    "# Create an instance of the Generator class\n",
    "generator = Generator()\n",
    "\n",
    "# Load the saved state dictionary\n",
    "generator.load_state_dict(torch.load('generatorbw3k.pth'))\n",
    "#generator.load_state_dict(torch.load('generator_low.pth'))\n",
    "#generator.load_state_dict(torch.load('generator_low.pth'), strict=False)\n",
    "\n",
    "# Set the generator to evaluation mode\n",
    "generator.eval()"
   ]
  },
  {
   "cell_type": "code",
   "execution_count": null,
   "metadata": {},
   "outputs": [],
   "source": [
    "# Load a compressed image that you want to generate a high-quality image for\n",
    "#compressed_image = Image.open('test.jpg').convert('L')\n",
    "compressed_image = Image.open('test.jpg')\n",
    "\n",
    "# Apply the same image transformation used during training\n",
    "transform = ToTensor()\n",
    "compressed_image = transform(compressed_image)\n",
    "\n",
    "# Add a batch dimension to the input image\n",
    "compressed_image = compressed_image.unsqueeze(0)\n",
    "\n",
    "# Move the input image to the same device used for training\n",
    "compressed_image = compressed_image.to(device)"
   ]
  },
  {
   "cell_type": "code",
   "execution_count": null,
   "metadata": {},
   "outputs": [],
   "source": [
    "# Generate a high-quality image from the compressed input image using the trained generator\n",
    "with torch.no_grad():\n",
    "    high_quality_image = generator(compressed_image)\n",
    "\n",
    "# Move the generated high-quality image to CPU and convert it to a PIL image\n",
    "high_quality_image = high_quality_image.cpu().squeeze(0)\n",
    "high_quality_image = ToPILImage()(high_quality_image)\n",
    "\n",
    "# Save the generated high-quality image\n",
    "# high_quality_image.save('GAN2-BW-test.png')\n",
    "high_quality_image.save('GAN2-low-test.png')"
   ]
  },
  {
   "cell_type": "code",
   "execution_count": null,
   "metadata": {},
   "outputs": [],
   "source": []
  },
  {
   "cell_type": "code",
   "execution_count": null,
   "metadata": {},
   "outputs": [],
   "source": []
  }
 ],
 "metadata": {
  "kernelspec": {
   "display_name": "Python 3",
   "language": "python",
   "name": "python3"
  },
  "language_info": {
   "codemirror_mode": {
    "name": "ipython",
    "version": 3
   },
   "file_extension": ".py",
   "mimetype": "text/x-python",
   "name": "python",
   "nbconvert_exporter": "python",
   "pygments_lexer": "ipython3",
   "version": "3.8.6"
  }
 },
 "nbformat": 4,
 "nbformat_minor": 5
}
